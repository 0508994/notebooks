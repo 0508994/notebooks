{
 "cells": [
  {
   "cell_type": "code",
   "execution_count": 1,
   "metadata": {},
   "outputs": [],
   "source": [
    "#python -m retro.import E:/Datasets/retro_roms/space_invaders\n",
    "import retro\n",
    "import random\n",
    "import numpy as np\n",
    "import matplotlib.pyplot as plt\n",
    "import warnings\n",
    "import tensorflow as tf\n",
    "from skimage import transform\n",
    "from skimage.color import rgb2gray\n",
    "from collections import deque\n",
    "\n",
    "warnings.filterwarnings('ignore')"
   ]
  },
  {
   "cell_type": "code",
   "execution_count": 2,
   "metadata": {},
   "outputs": [
    {
     "name": "stdout",
     "output_type": "stream",
     "text": [
      "Frame dimensions: Box(210, 160, 3)\n",
      "Action size: 8\n",
      "[[1 0 0 0 0 0 0 0]\n",
      " [0 1 0 0 0 0 0 0]\n",
      " [0 0 1 0 0 0 0 0]\n",
      " [0 0 0 1 0 0 0 0]\n",
      " [0 0 0 0 1 0 0 0]\n",
      " [0 0 0 0 0 1 0 0]\n",
      " [0 0 0 0 0 0 1 0]\n",
      " [0 0 0 0 0 0 0 1]]\n"
     ]
    }
   ],
   "source": [
    "# Create env\n",
    "env = retro.make(game='SpaceInvaders-Atari2600')\n",
    "#possible_actions = np.array(np.identity(env.action_space.n, dtype=int).tolist())\n",
    "possible_actions = np.identity(env.action_space.n, dtype=int) # -- isto kao gore -.-\n",
    "\n",
    "\n",
    "print('Frame dimensions:', env.observation_space)\n",
    "print('Action size:', env.action_space.n)\n",
    "print(possible_actions)"
   ]
  },
  {
   "cell_type": "code",
   "execution_count": 3,
   "metadata": {},
   "outputs": [
    {
     "data": {
      "text/plain": [
       "<matplotlib.image.AxesImage at 0x22a618194e0>"
      ]
     },
     "execution_count": 3,
     "metadata": {},
     "output_type": "execute_result"
    },
    {
     "data": {
      "image/png": "[encoded data removed]",
      "text/plain": [
       "<Figure size 432x288 with 1 Axes>"
      ]
     },
     "metadata": {},
     "output_type": "display_data"
    }
   ],
   "source": [
    "env.reset()\n",
    "img, _, _, _ = env.step(possible_actions[0])\n",
    "plt.imshow(img)"
   ]
  },
  {
   "cell_type": "code",
   "execution_count": 4,
   "metadata": {},
   "outputs": [
    {
     "data": {
      "text/plain": [
       "<matplotlib.image.AxesImage at 0x22a618ae390>"
      ]
     },
     "execution_count": 4,
     "metadata": {},
     "output_type": "execute_result"
    },
    {
     "data": {
      "image/png": "[encoded data removed]",
      "text/plain": [
       "<Figure size 432x288 with 1 Axes>"
      ]
     },
     "metadata": {},
     "output_type": "display_data"
    }
   ],
   "source": [
    "plt.imshow(img[8:-12,4:-12])"
   ]
  },
  {
   "cell_type": "code",
   "execution_count": 5,
   "metadata": {},
   "outputs": [],
   "source": [
    "def preprocess_frame(frame):\n",
    "    # grayscale\n",
    "    frame = rgb2gray(frame)\n",
    "    # [up: down, left: right]\n",
    "    frame = frame[8:-12,4:-12]\n",
    "    # normalize\n",
    "    frame = frame / 255.0\n",
    "    # resized [110x84x1]\n",
    "    frame = transform.resize(frame, [110, 84])\n",
    "    \n",
    "    return frame"
   ]
  },
  {
   "cell_type": "code",
   "execution_count": 6,
   "metadata": {},
   "outputs": [
    {
     "data": {
      "text/plain": [
       "<matplotlib.image.AxesImage at 0x22a6190d748>"
      ]
     },
     "execution_count": 6,
     "metadata": {},
     "output_type": "execute_result"
    },
    {
     "data": {
      "image/png": "[encoded data removed]",
      "text/plain": [
       "<Figure size 432x288 with 1 Axes>"
      ]
     },
     "metadata": {},
     "output_type": "display_data"
    }
   ],
   "source": [
    "plt.imshow(preprocess_frame(img))"
   ]
  },
  {
   "cell_type": "code",
   "execution_count": 7,
   "metadata": {},
   "outputs": [],
   "source": [
    "stack_size = 4\n",
    "stacked_frames = deque([np.zeros((110, 84), dtype=np.int) for i in range(stack_size)], maxlen=stack_size)\n",
    "\n",
    "def stack_frames(stacked_frames, state, is_new_episode):\n",
    "    frame = preprocess_frame(state)\n",
    "    if is_new_episode:    \n",
    "        # clear the stack\n",
    "        stacked_frames = deque([np.zeros((110, 84), dtype=np.int) for i in range(stack_size)], maxlen=stack_size)\n",
    "        \n",
    "        for _ in range(stack_size):\n",
    "            stacked_frames.append(frame)\n",
    "            \n",
    "        # stack the frames\n",
    "    else:\n",
    "        stacked_frames.append(frame)\n",
    "        \n",
    "    stacked_state = np.stack(stacked_frames, axis=2)\n",
    "    \n",
    "    return stacked_state, stacked_frames\n",
    "        \n",
    "    # stacked_state is 110x84x4 NUMPY ARRAY\n",
    "    \n",
    "            "
   ]
  },
  {
   "cell_type": "code",
   "execution_count": 10,
   "metadata": {},
   "outputs": [],
   "source": [
    "# MODEL HYPERPARAMETERS\n",
    "state_size = [110, 84, 4]\n",
    "action_size = env.action_space.n\n",
    "learning_rate = 0.00025\n",
    "\n",
    "# TRAINING HYPERPARAMETERS\n",
    "total_episodes = 50\n",
    "max_steps = 50000\n",
    "batch_size = 64\n",
    "\n",
    "# EXPLORATION PARAMETERS FOR EPSILON GREEDY\n",
    "explore_start = 1.0  # exploration probabilty at start\n",
    "explore_stop = 0.01  # minimum exploration probability\n",
    "decay_rate = 0.00001 # exponential decay rate for exploration prob\n",
    "\n",
    "# Q-LEARNING HYPERPARAMETERS\n",
    "gamma = 0.9          # discounting rate\n",
    "\n",
    "# MEMORY HYPERPARAMETERS\n",
    "pretrain_length = batch_size\n",
    "memory_size = 5000 # 1000000 pojede ceo ram\n",
    "\n",
    "stack_size = 4\n",
    "training = True\n",
    "episode_render = False"
   ]
  },
  {
   "cell_type": "code",
   "execution_count": 8,
   "metadata": {},
   "outputs": [],
   "source": [
    "class DQNetwork:\n",
    "    def __init__(self, state_size, action_size, learning_rate, name='DQNetwork'):\n",
    "        self.state_size = state_size\n",
    "        self.action_size = action_size\n",
    "        self.learning_rate = learning_rate\n",
    "\n",
    "        with tf.variable_scope(name):\n",
    "            # create the placeholders\n",
    "            # *state_size means that we take each elements of state_size in tuple hence is like if we wrote [None, 84, 84, 4]\n",
    "            self.inputs_ = tf.placeholder(tf.float32, [None, *state_size], name='inputs')\n",
    "            self.actions_ = tf.placeholder(tf.float32, [None, action_size], name='actions_')\n",
    "            self.target_Q = tf.placeholder(tf.float32, [None], name='target')\n",
    "\n",
    "            #----> CONV LAYER 1\n",
    "            # Input is 110x84x4\n",
    "            self.conv1 = tf.layers.conv2d(inputs = self.inputs_, \\\n",
    "                                          filters = 32,\\\n",
    "                                          kernel_size = [8, 8], \\\n",
    "                                          strides = [4, 4], \\\n",
    "                                          padding = 'VALID', \\\n",
    "                                          kernel_initializer = tf.contrib.layers.xavier_initializer_conv2d(), \\\n",
    "                                          name = 'conv1')\n",
    "\n",
    "            self.conv1_batchnorm = tf.layers.batch_normalization(\\\n",
    "                                          self.conv1, \\\n",
    "                                          training = True, \\\n",
    "                                          epsilon = 1e-5, \\\n",
    "                                          name = 'batch_norm1')\n",
    "            \n",
    "            self.conv1_out = tf.nn.elu(self.conv1_batchnorm, name='conv1_out') \n",
    "\n",
    "            #----> CONV LAYER 2\n",
    "            # Input is conv1_out\n",
    "            self.conv2 = tf.layers.conv2d(inputs = self.conv1_out, \\\n",
    "                                          filters = 64,\\\n",
    "                                          kernel_size = [4, 4], \\\n",
    "                                          strides = [2, 2], \\\n",
    "                                          padding = 'VALID', \\\n",
    "                                          kernel_initializer = tf.contrib.layers.xavier_initializer_conv2d(), \\\n",
    "                                          name = 'conv2')\n",
    "\n",
    "            self.conv2_batchnorm = tf.layers.batch_normalization(\\\n",
    "                                          self.conv2, \\\n",
    "                                          training = True, \\\n",
    "                                          epsilon = 1e-5, \\\n",
    "                                          name = 'batch_norm2')\n",
    "            \n",
    "            self.conv2_out = tf.nn.elu(self.conv2_batchnorm, name='conv2_out') \n",
    "\n",
    "\n",
    "            #----> CONV LAYER 3\n",
    "            # Input is conv2_out\n",
    "            self.conv3 = tf.layers.conv2d(inputs = self.conv2_out, \\\n",
    "                                          filters = 64,\\\n",
    "                                          kernel_size = [3, 3], \\\n",
    "                                          strides = [2, 2], \\\n",
    "                                          padding = 'VALID', \\\n",
    "                                          kernel_initializer = tf.contrib.layers.xavier_initializer_conv2d(), \\\n",
    "                                          name = 'conv3')\n",
    "\n",
    "            self.conv3_batchnorm = tf.layers.batch_normalization(\\\n",
    "                                          self.conv3, \\\n",
    "                                          training = True, \\\n",
    "                                          epsilon = 1e-5, \\\n",
    "                                          name = 'batch_norm3')\n",
    "            \n",
    "            self.conv3_out = tf.nn.elu(self.conv3_batchnorm, name='conv3_out') \n",
    "\n",
    "\n",
    "            # Flatten layer -->\n",
    "            # Input is conv3_out\n",
    "            self.flatten = tf.layers.flatten(self.conv3_out)\n",
    "            \n",
    "            # Dense layer\n",
    "            # Input is flattened conv3_out\n",
    "            self.fc =  tf.layers.dense(inputs = self.flatten, \\\n",
    "                                       units = 512, \\\n",
    "                                       activation = tf.nn.elu, \\\n",
    "                                       kernel_initializer = tf.contrib.layers.xavier_initializer(), \\\n",
    "                                       name = 'fc1' )\n",
    "\n",
    "            # Output layer [Q values for each action]\n",
    "            self.output =  tf.layers.dense(\\\n",
    "                                       inputs = self.fc, \\\n",
    "                                       units = self.action_size, \\\n",
    "                                       activation = None, \\\n",
    "                                       kernel_initializer = tf.contrib.layers.xavier_initializer())  \n",
    "\n",
    "            # Our predicted Q-value\n",
    "            self.Q = tf.reduce_sum(tf.multiply(self.output, self.actions_), axis=1)\n",
    "            # >>> np.sum([1, 2, 3], axis=1)\n",
    "            # array([6])\n",
    "            # >>> np.sum([1, 2, 3], axis=0)\n",
    "            # array([1, 2, 3])\n",
    "            # >>> np.sum([1, 2, 3], axis=None) # default\n",
    "            # 6\n",
    "\n",
    "            # The loss is the difference between our predicted Q-values and Q_target\n",
    "            # Sum(Q-Target - Q)^2\n",
    "            self.loss = tf.reduce_mean(tf.square(self.target_Q - self.Q))\n",
    "            self.optimizer = tf.train.AdamOptimizer(self.learning_rate).minimize(self.loss)"
   ]
  },
  {
   "cell_type": "code",
   "execution_count": 11,
   "metadata": {},
   "outputs": [],
   "source": [
    "tf.reset_default_graph()\n",
    "DQNetwork = DQNetwork(state_size, action_size, learning_rate)"
   ]
  },
  {
   "cell_type": "code",
   "execution_count": 18,
   "metadata": {},
   "outputs": [],
   "source": [
    "class Memory():\n",
    "    def __init__(self, max_size):\n",
    "        self.buffer = deque(maxlen=max_size)\n",
    "        \n",
    "        \n",
    "    def add(self, experience):\n",
    "        self.buffer.append(experience)\n",
    "        \n",
    "    def sample(self, batch_size):\n",
    "        buffer_size = len(self.buffer)\n",
    "        index = np.random.choice(np.arange(buffer_size), size=batch_size, replace=False)\n",
    "        \n",
    "        return [self.buffer[i] for i in index]"
   ]
  },
  {
   "cell_type": "code",
   "execution_count": 19,
   "metadata": {},
   "outputs": [],
   "source": [
    "memory = Memory(max_size=memory_size)\n",
    "\n",
    "for i in range(pretrain_length):\n",
    "    if i == 0:\n",
    "        state = env.reset()\n",
    "        state, stacked_frames = stack_frames(stacked_frames, state, True)\n",
    "        \n",
    "    choice = random.randint(1, len(possible_actions)) - 1\n",
    "    action = possible_actions[choice]\n",
    "    next_state, reward, done, _ = env.step(action)\n",
    "    #env.render()\n",
    "    \n",
    "    next_state, stacked_frames = stack_frames(stacked_frames, next_state, False)\n",
    "    \n",
    "    if done:\n",
    "        next_state = np.zeros(state.shape)\n",
    "        memory.add((state, action, reward, next_state, done))\n",
    "        state = env.reset()\n",
    "        state, stacked_frames = stack_frames(stacked_frames, state, True)\n",
    "    else:\n",
    "        memory.add((state, action, reward, next_state, done))\n",
    "        state = next_state"
   ]
  },
  {
   "cell_type": "code",
   "execution_count": null,
   "metadata": {},
   "outputs": [],
   "source": []
  }
 ],
 "metadata": {
  "kernelspec": {
   "display_name": "Python 3",
   "language": "python",
   "name": "python3"
  },
  "language_info": {
   "codemirror_mode": {
    "name": "ipython",
    "version": 3
   },
   "file_extension": ".py",
   "mimetype": "text/x-python",
   "name": "python",
   "nbconvert_exporter": "python",
   "pygments_lexer": "ipython3",
   "version": "3.6.5"
  }
 },
 "nbformat": 4,
 "nbformat_minor": 2
}
