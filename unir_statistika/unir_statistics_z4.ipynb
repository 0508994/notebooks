{
 "cells": [
  {
   "cell_type": "markdown",
   "metadata": {},
   "source": [
    "Istraživači su postavili hipotezu da studenti koji slušaju klasičnu muziku postižu\n",
    "bolje rezultate na testovima prostorne orijentacije u odnosu na ostale studente,\n",
    "pri čemu je srednja vrednost koju postižu studenti na ovom testu jednaka npr.\n",
    "58 . Testirano je 14 studenata koji slušaju klasičnu muziku. Jedan skup rezultata\n",
    "mogao bi da bude:\n",
    "52   59   63   65   58   55   62   63   53   59   57   61   60   59 \n",
    "Uzeti 14 svojih zamišljenih rezultata, kao i svoju zamišljenju srednju vrednost\n",
    "uspeha koji studenti postižu na testu (uzeti smislenu vrednost u skladu sa\n",
    "zamišljenim rezultatima testirane grupe).\n",
    "1. Definisati nultu i radnu hipotezu za ovo istraživanje.\n",
    "2. Da li je ovo jednosmerni ili dvosmerni test hipoteze?\n",
    "3. Odrediti vrednost t-testa za ovo istraživanje.\n",
    "4. Da li će nulta hipoteza biti odbačena ili ne? Koji se zaključak može izvesti?\n",
    "5. Na osnovu datog uzorka odrediti Interval poverljivosti koji obuhvata 95% populacije.."
   ]
  },
  {
   "cell_type": "code",
   "execution_count": 2,
   "metadata": {
    "collapsed": true
   },
   "outputs": [],
   "source": [
    "%matplotlib inline\n",
    "import matplotlib.pyplot as plt\n",
    "import seaborn as sb\n",
    "\n",
    "import numpy as np\n",
    "import pandas as pd"
   ]
  },
  {
   "cell_type": "code",
   "execution_count": 4,
   "metadata": {},
   "outputs": [
    {
     "name": "stdout",
     "output_type": "stream",
     "text": [
      "[61 56 57 55 55 57 51 56 60 61 52 55 59 61]\n",
      "56.8571428571\n"
     ]
    }
   ],
   "source": [
    "z4 = np.random.randint(low=50, high=65, size=14)\n",
    "print(z4)\n",
    "print(z4.mean())"
   ]
  },
  {
   "cell_type": "code",
   "execution_count": 14,
   "metadata": {
    "collapsed": true
   },
   "outputs": [],
   "source": [
    "# t-test\n",
    "import math\n",
    "\n",
    "def S(x):\n",
    "    m = x.mean()\n",
    "    under = sum((x - m)**2) / (len(x) - 1)\n",
    "    return math.sqrt(under)\n",
    "    \n",
    "def Sxhat(x):\n",
    "    return S(x) / math.sqrt(len(x))\n",
    "\n",
    "def t(x, mu):\n",
    "    return (x.mean() - mu) / Sxhat(x)"
   ]
  },
  {
   "cell_type": "code",
   "execution_count": 16,
   "metadata": {},
   "outputs": [
    {
     "name": "stdout",
     "output_type": "stream",
     "text": [
      "0.8635293211814127\n"
     ]
    }
   ],
   "source": [
    "print(Sxhat(z4))"
   ]
  },
  {
   "cell_type": "code",
   "execution_count": 15,
   "metadata": {},
   "outputs": [
    {
     "name": "stdout",
     "output_type": "stream",
     "text": [
      "5.25418505875\n"
     ]
    }
   ],
   "source": [
    "print(t(z4, 52.32))"
   ]
  }
 ],
 "metadata": {
  "kernelspec": {
   "display_name": "Python 3",
   "language": "python",
   "name": "python3"
  },
  "language_info": {
   "codemirror_mode": {
    "name": "ipython",
    "version": 3
   },
   "file_extension": ".py",
   "mimetype": "text/x-python",
   "name": "python",
   "nbconvert_exporter": "python",
   "pygments_lexer": "ipython3",
   "version": "3.6.3"
  }
 },
 "nbformat": 4,
 "nbformat_minor": 2
}
