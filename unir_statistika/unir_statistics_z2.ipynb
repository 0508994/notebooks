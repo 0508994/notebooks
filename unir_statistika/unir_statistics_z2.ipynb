{
 "cells": [
  {
   "cell_type": "markdown",
   "metadata": {},
   "source": [
    "Za svoj skup podataka odrediti sledeće parametre:\n",
    "1. Koeficijent korelacije između IQ skora i rezultata iz predmeta Psihologija.\n",
    "2. Koeficijent korelacije između IQ skora i rezultata iz predmeta Statistika.\n",
    "3. Koeficijent korelacije između rezultata iz predmeta Psihologija i Statistika.\n",
    "4. Odrediti parametre regresione linije za slučaj pod 1.\n",
    "5. Korelaciju između IQ skora i rezultata iz Psihologije predstaviti skatergrafom sa upisanom regresionom linijom."
   ]
  },
  {
   "cell_type": "code",
   "execution_count": 24,
   "metadata": {
    "collapsed": true
   },
   "outputs": [],
   "source": [
    "%matplotlib inline\n",
    "import matplotlib.pyplot as plt\n",
    "import seaborn as sb\n",
    "\n",
    "import numpy as np\n",
    "import pandas as pd"
   ]
  },
  {
   "cell_type": "code",
   "execution_count": 25,
   "metadata": {},
   "outputs": [
    {
     "data": {
      "text/html": [
       "<div>\n",
       "<style>\n",
       "    .dataframe thead tr:only-child th {\n",
       "        text-align: right;\n",
       "    }\n",
       "\n",
       "    .dataframe thead th {\n",
       "        text-align: left;\n",
       "    }\n",
       "\n",
       "    .dataframe tbody tr th {\n",
       "        vertical-align: top;\n",
       "    }\n",
       "</style>\n",
       "<table border=\"1\" class=\"dataframe\">\n",
       "  <thead>\n",
       "    <tr style=\"text-align: right;\">\n",
       "      <th></th>\n",
       "      <th>IQ_test</th>\n",
       "      <th>Psihologija</th>\n",
       "      <th>Statistika</th>\n",
       "    </tr>\n",
       "  </thead>\n",
       "  <tbody>\n",
       "    <tr>\n",
       "      <th>0</th>\n",
       "      <td>137</td>\n",
       "      <td>43</td>\n",
       "      <td>38</td>\n",
       "    </tr>\n",
       "    <tr>\n",
       "      <th>1</th>\n",
       "      <td>105</td>\n",
       "      <td>45</td>\n",
       "      <td>47</td>\n",
       "    </tr>\n",
       "    <tr>\n",
       "      <th>2</th>\n",
       "      <td>126</td>\n",
       "      <td>37</td>\n",
       "      <td>33</td>\n",
       "    </tr>\n",
       "    <tr>\n",
       "      <th>3</th>\n",
       "      <td>91</td>\n",
       "      <td>47</td>\n",
       "      <td>48</td>\n",
       "    </tr>\n",
       "    <tr>\n",
       "      <th>4</th>\n",
       "      <td>97</td>\n",
       "      <td>40</td>\n",
       "      <td>33</td>\n",
       "    </tr>\n",
       "    <tr>\n",
       "      <th>5</th>\n",
       "      <td>127</td>\n",
       "      <td>47</td>\n",
       "      <td>33</td>\n",
       "    </tr>\n",
       "    <tr>\n",
       "      <th>6</th>\n",
       "      <td>101</td>\n",
       "      <td>45</td>\n",
       "      <td>37</td>\n",
       "    </tr>\n",
       "    <tr>\n",
       "      <th>7</th>\n",
       "      <td>130</td>\n",
       "      <td>40</td>\n",
       "      <td>41</td>\n",
       "    </tr>\n",
       "    <tr>\n",
       "      <th>8</th>\n",
       "      <td>123</td>\n",
       "      <td>39</td>\n",
       "      <td>39</td>\n",
       "    </tr>\n",
       "    <tr>\n",
       "      <th>9</th>\n",
       "      <td>136</td>\n",
       "      <td>37</td>\n",
       "      <td>39</td>\n",
       "    </tr>\n",
       "  </tbody>\n",
       "</table>\n",
       "</div>"
      ],
      "text/plain": [
       "   IQ_test  Psihologija  Statistika\n",
       "0      137           43          38\n",
       "1      105           45          47\n",
       "2      126           37          33\n",
       "3       91           47          48\n",
       "4       97           40          33\n",
       "5      127           47          33\n",
       "6      101           45          37\n",
       "7      130           40          41\n",
       "8      123           39          39\n",
       "9      136           37          39"
      ]
     },
     "execution_count": 25,
     "metadata": {},
     "output_type": "execute_result"
    }
   ],
   "source": [
    "z2 = pd.DataFrame(data={'IQ_test':np.random.randint(low=90, high=140, size=10),\\\n",
    "                        'Psihologija':np.random.randint(low=30, high=50, size=10),\\\n",
    "                        'Statistika':np.random.randint(low=30, high=50, size=10)})\n",
    "z2.head(10)"
   ]
  },
  {
   "cell_type": "code",
   "execution_count": 26,
   "metadata": {},
   "outputs": [
    {
     "data": {
      "text/html": [
       "<div>\n",
       "<style>\n",
       "    .dataframe thead tr:only-child th {\n",
       "        text-align: right;\n",
       "    }\n",
       "\n",
       "    .dataframe thead th {\n",
       "        text-align: left;\n",
       "    }\n",
       "\n",
       "    .dataframe tbody tr th {\n",
       "        vertical-align: top;\n",
       "    }\n",
       "</style>\n",
       "<table border=\"1\" class=\"dataframe\">\n",
       "  <thead>\n",
       "    <tr style=\"text-align: right;\">\n",
       "      <th></th>\n",
       "      <th>IQ_test</th>\n",
       "      <th>Psihologija</th>\n",
       "      <th>Statistika</th>\n",
       "    </tr>\n",
       "  </thead>\n",
       "  <tbody>\n",
       "    <tr>\n",
       "      <th>IQ_test</th>\n",
       "      <td>1.000000</td>\n",
       "      <td>-0.482279</td>\n",
       "      <td>-0.344596</td>\n",
       "    </tr>\n",
       "    <tr>\n",
       "      <th>Psihologija</th>\n",
       "      <td>-0.482279</td>\n",
       "      <td>1.000000</td>\n",
       "      <td>0.371116</td>\n",
       "    </tr>\n",
       "    <tr>\n",
       "      <th>Statistika</th>\n",
       "      <td>-0.344596</td>\n",
       "      <td>0.371116</td>\n",
       "      <td>1.000000</td>\n",
       "    </tr>\n",
       "  </tbody>\n",
       "</table>\n",
       "</div>"
      ],
      "text/plain": [
       "              IQ_test  Psihologija  Statistika\n",
       "IQ_test      1.000000    -0.482279   -0.344596\n",
       "Psihologija -0.482279     1.000000    0.371116\n",
       "Statistika  -0.344596     0.371116    1.000000"
      ]
     },
     "execution_count": 26,
     "metadata": {},
     "output_type": "execute_result"
    }
   ],
   "source": [
    "# 1), 2), 3)\n",
    "corr = z2.corr()\n",
    "corr.head(10)"
   ]
  },
  {
   "cell_type": "code",
   "execution_count": 27,
   "metadata": {},
   "outputs": [
    {
     "data": {
      "text/plain": [
       "-0.34459619182186202"
      ]
     },
     "execution_count": 27,
     "metadata": {},
     "output_type": "execute_result"
    }
   ],
   "source": [
    "corr.IQ_test.Statistika"
   ]
  },
  {
   "cell_type": "code",
   "execution_count": 28,
   "metadata": {},
   "outputs": [
    {
     "name": "stdout",
     "output_type": "stream",
     "text": [
      "b = -0.1088440562907593\n",
      "a = 51.56740780290606\n"
     ]
    }
   ],
   "source": [
    "# 4)\n",
    "# y = bx + a\n",
    "# b = r * (sigma_y / sigma_x)\n",
    "# a = y_hat - b * x_hat\n",
    "\n",
    "b = corr.IQ_test.Statistika * z2.Statistika.std() / z2.IQ_test.std()\n",
    "a = z2.Statistika.mean() - b * z2.IQ_test.mean()\n",
    "\n",
    "print('b = {}'.format(b))\n",
    "print('a = {}'.format(a))"
   ]
  },
  {
   "cell_type": "code",
   "execution_count": 29,
   "metadata": {},
   "outputs": [
    {
     "data": {
      "text/plain": [
       "<seaborn.axisgrid.FacetGrid at 0x21123a007b8>"
      ]
     },
     "execution_count": 29,
     "metadata": {},
     "output_type": "execute_result"
    },
    {
     "data": {
      "image/png": "[encoded data removed]",
      "text/plain": [
       "<matplotlib.figure.Figure at 0x21123a006d8>"
      ]
     },
     "metadata": {},
     "output_type": "display_data"
    }
   ],
   "source": [
    "# 5)\n",
    "sb.lmplot(x='IQ_test', y='Psihologija', data=z2, fit_reg=True) "
   ]
  }
 ],
 "metadata": {
  "kernelspec": {
   "display_name": "Python 3",
   "language": "python",
   "name": "python3"
  },
  "language_info": {
   "codemirror_mode": {
    "name": "ipython",
    "version": 3
   },
   "file_extension": ".py",
   "mimetype": "text/x-python",
   "name": "python",
   "nbconvert_exporter": "python",
   "pygments_lexer": "ipython3",
   "version": "3.6.3"
  }
 },
 "nbformat": 4,
 "nbformat_minor": 2
}
