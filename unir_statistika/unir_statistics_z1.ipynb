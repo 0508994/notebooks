{
 "cells": [
  {
   "cell_type": "code",
   "execution_count": 105,
   "metadata": {
    "collapsed": true
   },
   "outputs": [],
   "source": [
    "%matplotlib inline\n",
    "import matplotlib.pyplot as plt\n",
    "import seaborn as sb\n",
    "\n",
    "import numpy as np\n",
    "import pandas as pd"
   ]
  },
  {
   "cell_type": "code",
   "execution_count": 106,
   "metadata": {},
   "outputs": [
    {
     "data": {
      "text/plain": [
       "0     42\n",
       "1     19\n",
       "2     57\n",
       "3     63\n",
       "4     52\n",
       "5     14\n",
       "6     36\n",
       "7     64\n",
       "8     77\n",
       "9     56\n",
       "10    65\n",
       "11    66\n",
       "12    22\n",
       "13    77\n",
       "14    15\n",
       "15    47\n",
       "16    18\n",
       "17    19\n",
       "18     1\n",
       "19    55\n",
       "20    40\n",
       "21    58\n",
       "22    15\n",
       "23     5\n",
       "24    17\n",
       "25    44\n",
       "26    40\n",
       "27    54\n",
       "28    38\n",
       "29     7\n",
       "dtype: int32"
      ]
     },
     "execution_count": 106,
     "metadata": {},
     "output_type": "execute_result"
    }
   ],
   "source": [
    "# Zadatak 1 - generisanje podataka\n",
    "z1 = pd.Series(data=np.random.randint(low=0, high=80, size=30))\n",
    "z1.head(30)"
   ]
  },
  {
   "cell_type": "markdown",
   "metadata": {},
   "source": [
    "1. Distribuciju frekvencije ovih podataka predstaviti tabelarno. U istoj tabeli prikazati i relativnu frekvenciju.\n",
    "2. Iste podatke organizovati u 8 klasa i prikazati frekvenciju klasa i relativnu frekvenciju klasa.\n",
    "3. Podatke iz prethodne 2 stavke prikazati grafički. Izabrati najpovoljniji grafikon.\n",
    "4. Izračunati srednju vrednost (mean), medianu (median) i mod datih podataka. Kakva je distribucija podataka? Da li je normalna ili nakrivljena (skewed) ulevo ili udesno?\n",
    "5. Izračunati varijansu i standardnu devijaciju datih podatka.\n",
    "6. Izabrati jednog od studenata i izračunati njegov z-skor. Navesti za kog studenta (u smislu za koji broj pristupa) je izračunat z-skor."
   ]
  },
  {
   "cell_type": "code",
   "execution_count": 107,
   "metadata": {},
   "outputs": [
    {
     "name": "stdout",
     "output_type": "stream",
     "text": [
      "19 2 0.0769230769231\n",
      "77 2 0.0769230769231\n",
      "15 2 0.0769230769231\n",
      "40 2 0.0769230769231\n",
      "63 1 0.0384615384615\n",
      "65 1 0.0384615384615\n",
      "66 1 0.0384615384615\n",
      "5 1 0.0384615384615\n",
      "7 1 0.0384615384615\n",
      "1 1 0.0384615384615\n",
      "14 1 0.0384615384615\n",
      "17 1 0.0384615384615\n",
      "18 1 0.0384615384615\n",
      "22 1 0.0384615384615\n",
      "58 1 0.0384615384615\n",
      "36 1 0.0384615384615\n",
      "38 1 0.0384615384615\n",
      "42 1 0.0384615384615\n",
      "44 1 0.0384615384615\n",
      "47 1 0.0384615384615\n",
      "52 1 0.0384615384615\n",
      "54 1 0.0384615384615\n",
      "55 1 0.0384615384615\n",
      "56 1 0.0384615384615\n",
      "57 1 0.0384615384615\n",
      "64 1 0.0384615384615\n"
     ]
    }
   ],
   "source": [
    "# 1)\n",
    "# value_counts - indeksi (index) su vrednosti polja (dataframe-a) a vrednosti (values) su brojevi pojavljivanja!!!!\n",
    "fqs = z1.value_counts(normalize=False)\n",
    "for index, value in zip(fqs.index, fqs.values):\n",
    "    print(index, value, value / fqs.count())"
   ]
  },
  {
   "cell_type": "code",
   "execution_count": 108,
   "metadata": {},
   "outputs": [
    {
     "name": "stdout",
     "output_type": "stream",
     "text": [
      "0-10 3 0.115384615385\n",
      "11-20 7 0.269230769231\n",
      "21-30 1 0.0384615384615\n",
      "31-40 4 0.153846153846\n",
      "41-50 3 0.115384615385\n",
      "51-60 6 0.230769230769\n",
      "61-70 4 0.153846153846\n",
      "71-80 2 0.0769230769231\n"
     ]
    }
   ],
   "source": [
    "# 2)\n",
    "z1_classes = [[0, 10,], [11, 20], [21, 30], [31, 40], [41, 50], [51, 60], [61, 70], [71, 80]]\n",
    "temp = {}\n",
    "for c in z1_classes:\n",
    "    temp[str(c[0])+'-'+str(c[1])] = z1[np.logical_and(z1 >= c[0], z1 <= c[1])].count()\n",
    "    \n",
    "class_fqs = pd.Series(data=temp)\n",
    "for index, value in zip(class_fqs.index, class_fqs.values):\n",
    "    print(index, value, value / fqs.count())"
   ]
  },
  {
   "cell_type": "code",
   "execution_count": 109,
   "metadata": {},
   "outputs": [
    {
     "data": {
      "image/png": "[encoded data removed]",
      "text/plain": [
       "<matplotlib.figure.Figure at 0x2be76e27588>"
      ]
     },
     "metadata": {},
     "output_type": "display_data"
    }
   ],
   "source": [
    "# 3 a)\n",
    "x = fqs.index\n",
    "y = fqs.values\n",
    "plt.bar(x ,y,align='center') \n",
    "plt.xlabel('Broj pristupa')\n",
    "plt.ylabel('Frekvencija')\n",
    "#for i in range(len(y)):\n",
    "#   plt.hlines(y[i],0,x[i]) \n",
    "plt.show()"
   ]
  },
  {
   "cell_type": "code",
   "execution_count": 110,
   "metadata": {},
   "outputs": [
    {
     "data": {
      "text/plain": [
       "<matplotlib.legend.Legend at 0x2be76dd20f0>"
      ]
     },
     "execution_count": 110,
     "metadata": {},
     "output_type": "execute_result"
    },
    {
     "data": {
      "image/png": "[encoded data removed]",
      "text/plain": [
       "<matplotlib.figure.Figure at 0x2be76cfca20>"
      ]
     },
     "metadata": {},
     "output_type": "display_data"
    }
   ],
   "source": [
    "# 3 b)\n",
    "class_fqs.plot \\\n",
    "         .pie(legend='reverse', colormap='Accent', title='Frekvencije klasa')\\\n",
    "         .legend(bbox_to_anchor=(1, 1))"
   ]
  },
  {
   "cell_type": "code",
   "execution_count": 111,
   "metadata": {},
   "outputs": [
    {
     "name": "stdout",
     "output_type": "stream",
     "text": [
      "Medijana skupa podataka je 41.\n",
      "Srednja vrednost skupa podataka je 39.43333333333333.\n",
      "Mod skupa podataka je 15.\n"
     ]
    }
   ],
   "source": [
    "# 4)\n",
    "print('Medijana skupa podataka je {}.'.format(int(z1.median()))) # vraća float (.0 ) \n",
    "print('Srednja vrednost skupa podataka je {}.'.format(z1.mean()))\n",
    "print('Mod skupa podataka je {}.'.format(z1.mode()[0])) # Always returns Series even if only one value is returned."
   ]
  },
  {
   "cell_type": "code",
   "execution_count": 112,
   "metadata": {},
   "outputs": [
    {
     "name": "stdout",
     "output_type": "stream",
     "text": [
      "Varijansa skupa podataka je 504.7367816091954.\n",
      "Standardna devijacija skupa podataka je 22.466347758574276.\n"
     ]
    }
   ],
   "source": [
    "# 5)\n",
    "print('Varijansa skupa podataka je {}.'.format(z1.var()))\n",
    "print('Standardna devijacija skupa podataka je {}.'.format(z1.std()))"
   ]
  },
  {
   "cell_type": "code",
   "execution_count": 115,
   "metadata": {},
   "outputs": [
    {
     "name": "stdout",
     "output_type": "stream",
     "text": [
      "Vrednost z-skora studenta sa 57 pristupa iznosi 0.7819102087904944.\n"
     ]
    }
   ],
   "source": [
    "# 6)\n",
    "print('Vrednost z-skora studenta sa 57 pristupa iznosi {}.'.format((57.0 - z1.mean()) / z1.std()))"
   ]
  }
 ],
 "metadata": {
  "kernelspec": {
   "display_name": "Python 3",
   "language": "python",
   "name": "python3"
  },
  "language_info": {
   "codemirror_mode": {
    "name": "ipython",
    "version": 3
   },
   "file_extension": ".py",
   "mimetype": "text/x-python",
   "name": "python",
   "nbconvert_exporter": "python",
   "pygments_lexer": "ipython3",
   "version": "3.6.3"
  }
 },
 "nbformat": 4,
 "nbformat_minor": 2
}
