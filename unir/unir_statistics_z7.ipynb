{
 "cells": [
  {
   "cell_type": "markdown",
   "metadata": {},
   "source": [
    "Istraživači su hteli da provere tezu da u toku nastave studentkinje više vole da\n",
    "sede u prvim redovima, dok studenti više vole zadnje redove. Da bi se utvrdilo\n",
    "da li je ova razlika statistički značajna izvršeno je ispitivanje u grupi studenata\n",
    "koja zajedno prati nastavu. Jedan mogući skup rezultata prikazan je u Tabeli 4.\n",
    "Formirati svoj, zamišljeni skup rezultata i njega koristiti u izračunavanjima.\n",
    "\n",
    "1. Izračunati\n",
    "2. Χ^2 vrednost za date podatke.\n",
    "2. Koji zaključak može da se izvede na osnovu dobijenih vrednosti."
   ]
  },
  {
   "cell_type": "code",
   "execution_count": 1,
   "metadata": {
    "collapsed": true
   },
   "outputs": [],
   "source": [
    "%matplotlib inline\n",
    "import matplotlib.pyplot as plt\n",
    "import seaborn as sb\n",
    "\n",
    "import numpy as np\n",
    "import pandas as pd\n",
    "from random import randint"
   ]
  },
  {
   "cell_type": "code",
   "execution_count": 34,
   "metadata": {},
   "outputs": [
    {
     "name": "stdout",
     "output_type": "stream",
     "text": [
      "   Studenti  Studentkinje\n",
      "0        11            23\n",
      "1        29            22\n"
     ]
    }
   ],
   "source": [
    "z7 = pd.DataFrame(data={'Studenti':[11, 29], 'Studentkinje':[23, 22]})\n",
    "\n",
    "print(z7.head(2))"
   ]
  },
  {
   "cell_type": "code",
   "execution_count": 35,
   "metadata": {},
   "outputs": [
    {
     "name": "stdout",
     "output_type": "stream",
     "text": [
      "[16.0, 24.0, 18.0, 27.0]\n"
     ]
    }
   ],
   "source": [
    "Os = []\n",
    "u = sum(z7.iloc[0]) + sum(z7.iloc[1])\n",
    "\n",
    "for i in ['Studenti', 'Studentkinje']:\n",
    "    for j in range(0, 2):\n",
    "        Os.append((sum(z7[i].values) * sum(z7.iloc[j].values)) / u)\n",
    "print(Os)"
   ]
  },
  {
   "cell_type": "code",
   "execution_count": 36,
   "metadata": {},
   "outputs": [
    {
     "name": "stdout",
     "output_type": "stream",
     "text": [
      "11 16.0\n",
      "29 24.0\n",
      "23 18.0\n",
      "22 27.0\n",
      "4.91898148148\n"
     ]
    }
   ],
   "source": [
    "oind = 0\n",
    "xs = 0\n",
    "for i in range(0, 2):\n",
    "    for j in range(0, 2):\n",
    "        xs += (z7.iloc[j].values[i] - Os[oind])**2 / Os[oind]\n",
    "        print(z7.iloc[j].values[i], Os[oind]) \n",
    "        oind += 1\n",
    "print(xs)"
   ]
  },
  {
   "cell_type": "code",
   "execution_count": null,
   "metadata": {
    "collapsed": true
   },
   "outputs": [],
   "source": []
  }
 ],
 "metadata": {
  "kernelspec": {
   "display_name": "Python 3",
   "language": "python",
   "name": "python3"
  },
  "language_info": {
   "codemirror_mode": {
    "name": "ipython",
    "version": 3
   },
   "file_extension": ".py",
   "mimetype": "text/x-python",
   "name": "python",
   "nbconvert_exporter": "python",
   "pygments_lexer": "ipython3",
   "version": "3.6.3"
  }
 },
 "nbformat": 4,
 "nbformat_minor": 2
}
