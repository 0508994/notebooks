{
 "cells": [
  {
   "cell_type": "markdown",
   "metadata": {},
   "source": [
    "Istraživači su hteli da utvrde da li bavljenje sportom pozitivno motiviše učenice\n",
    "srednjih škola. U istraživanje je uključena grupa učenica koje se nikad nisu\n",
    "organizovano bavile sportom ali planiraju da se uključe u neki sportski tim.\n",
    "Oni su ovim učenicama pre početka bavljenja sportom dali da urade test samo-\n",
    "motivacije koji se sastoji od 50 posebno pripremljenih pitanja. Ovaj test je\n",
    "ponovljen sa istom grupom učenica, nakon 6 meseci, u kom periodu su se one\n",
    "aktivno bavile sportom.\n",
    "Na početku Posle 6 meseci <br/>\n",
    "40 46 <br/>\n",
    "40 41 <br/>\n",
    "39 41 <br/>\n",
    "46 47 <br/>\n",
    "42 43 <br/>\n",
    "43 45 <br/>\n",
    "Jedan mogući skup dobijenih rezultata prikazan je u Tabeli 3. Veći broj poena\n",
    "na testu znači bolju samo-motivaciju, kao i to da broj poena na testu ima\n",
    "normalnu distribuciju.\n",
    "Umesto podataka datih u tabeli uzeti svoj, zamišljeni skup dobijenih podataka.\n",
    "1. Kojim statističkim testom treba da se izvrši analiza datih podataka.\n",
    "2. Definisati nultu i radnu hipotezu.\n",
    "3. Izvršiti odgovarajuću analizu.\n",
    "4. Predstaviti grafički dobijene podatke.\n",
    "5. Odrediti Interval poverljivsti koji obuhvata 95% populacije"
   ]
  },
  {
   "cell_type": "code",
   "execution_count": 1,
   "metadata": {
    "collapsed": true
   },
   "outputs": [],
   "source": [
    "%matplotlib inline\n",
    "import matplotlib.pyplot as plt\n",
    "import seaborn as sb\n",
    "\n",
    "import numpy as np\n",
    "import pandas as pd"
   ]
  },
  {
   "cell_type": "code",
   "execution_count": 2,
   "metadata": {},
   "outputs": [
    {
     "data": {
      "text/html": [
       "<div>\n",
       "<style>\n",
       "    .dataframe thead tr:only-child th {\n",
       "        text-align: right;\n",
       "    }\n",
       "\n",
       "    .dataframe thead th {\n",
       "        text-align: left;\n",
       "    }\n",
       "\n",
       "    .dataframe tbody tr th {\n",
       "        vertical-align: top;\n",
       "    }\n",
       "</style>\n",
       "<table border=\"1\" class=\"dataframe\">\n",
       "  <thead>\n",
       "    <tr style=\"text-align: right;\">\n",
       "      <th></th>\n",
       "      <th>P</th>\n",
       "      <th>P6m</th>\n",
       "    </tr>\n",
       "  </thead>\n",
       "  <tbody>\n",
       "    <tr>\n",
       "      <th>0</th>\n",
       "      <td>44</td>\n",
       "      <td>45</td>\n",
       "    </tr>\n",
       "    <tr>\n",
       "      <th>1</th>\n",
       "      <td>41</td>\n",
       "      <td>49</td>\n",
       "    </tr>\n",
       "    <tr>\n",
       "      <th>2</th>\n",
       "      <td>44</td>\n",
       "      <td>47</td>\n",
       "    </tr>\n",
       "    <tr>\n",
       "      <th>3</th>\n",
       "      <td>43</td>\n",
       "      <td>49</td>\n",
       "    </tr>\n",
       "    <tr>\n",
       "      <th>4</th>\n",
       "      <td>41</td>\n",
       "      <td>49</td>\n",
       "    </tr>\n",
       "    <tr>\n",
       "      <th>5</th>\n",
       "      <td>42</td>\n",
       "      <td>45</td>\n",
       "    </tr>\n",
       "  </tbody>\n",
       "</table>\n",
       "</div>"
      ],
      "text/plain": [
       "    P  P6m\n",
       "0  44   45\n",
       "1  41   49\n",
       "2  44   47\n",
       "3  43   49\n",
       "4  41   49\n",
       "5  42   45"
      ]
     },
     "execution_count": 2,
     "metadata": {},
     "output_type": "execute_result"
    }
   ],
   "source": [
    "z6 = pd.DataFrame(data={'P':np.random.randint(low=39, high=46, size=6),\\\n",
    "                        'P6m':np.random.randint(low=44, high=50, size=6)})\n",
    "z6.head(10)"
   ]
  },
  {
   "cell_type": "code",
   "execution_count": 4,
   "metadata": {},
   "outputs": [
    {
     "name": "stdout",
     "output_type": "stream",
     "text": [
      "4.833333333333333\n"
     ]
    }
   ],
   "source": [
    "Dhat = (z6.P6m - z6.P).mean()\n",
    "print(Dhat)"
   ]
  },
  {
   "cell_type": "code",
   "execution_count": 9,
   "metadata": {},
   "outputs": [],
   "source": [
    "from math import sqrt\n",
    "\n",
    "def t(sample1, sample2):\n",
    "    return (sample1 - sample2).mean() / SDhat(sample1, sample2)\n",
    "\n",
    "def SDhat(sample1, sample2):\n",
    "    return SD(sample1, sample2) / sqrt(sample1.count())\n",
    "\n",
    "def SD(sample1, sample2):\n",
    "    D = (sample1 - sample2).mean()\n",
    "    return sqrt(sum(((sample1 - sample2) - D)**2) / sample1.count() - 1) "
   ]
  },
  {
   "cell_type": "code",
   "execution_count": 14,
   "metadata": {},
   "outputs": [
    {
     "name": "stdout",
     "output_type": "stream",
     "text": [
      "1.0115078586685071\n"
     ]
    }
   ],
   "source": [
    "print(SDhat(z6.P6m, z6.P))"
   ]
  },
  {
   "cell_type": "code",
   "execution_count": 10,
   "metadata": {},
   "outputs": [
    {
     "name": "stdout",
     "output_type": "stream",
     "text": [
      "T-skor skupa podataka je 4.778344816515479.\n"
     ]
    }
   ],
   "source": [
    "print('T-skor skupa podataka je {}.'.format(t(z6.P6m, z6.P)))"
   ]
  },
  {
   "cell_type": "code",
   "execution_count": 16,
   "metadata": {},
   "outputs": [
    {
     "data": {
      "text/plain": [
       "<matplotlib.axes._subplots.AxesSubplot at 0x213104a6f98>"
      ]
     },
     "execution_count": 16,
     "metadata": {},
     "output_type": "execute_result"
    },
    {
     "data": {
      "image/png": "[encoded data removed]",
      "text/plain": [
       "<matplotlib.figure.Figure at 0x213109556d8>"
      ]
     },
     "metadata": {},
     "output_type": "display_data"
    }
   ],
   "source": [
    "z6.plot.bar()"
   ]
  }
 ],
 "metadata": {
  "kernelspec": {
   "display_name": "Python 3",
   "language": "python",
   "name": "python3"
  },
  "language_info": {
   "codemirror_mode": {
    "name": "ipython",
    "version": 3
   },
   "file_extension": ".py",
   "mimetype": "text/x-python",
   "name": "python",
   "nbconvert_exporter": "python",
   "pygments_lexer": "ipython3",
   "version": "3.6.3"
  }
 },
 "nbformat": 4,
 "nbformat_minor": 2
}
