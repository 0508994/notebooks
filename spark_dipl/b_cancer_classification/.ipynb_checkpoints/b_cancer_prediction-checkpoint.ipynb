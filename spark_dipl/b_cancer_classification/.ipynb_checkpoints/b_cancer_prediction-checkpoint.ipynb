{
 "cells": [
  {
   "cell_type": "code",
   "execution_count": 1,
   "metadata": {
    "collapsed": true
   },
   "outputs": [],
   "source": [
    "from pyspark.sql import SQLContext\n",
    "from pyspark.sql.types import *\n",
    "\n",
    "sqlContext = SQLContext(sc)\n",
    "#  id, clump_thickness, unif_cell_size, unif_cell_shape, marg_adhesion,\n",
    "#  single_epith_cell_size, bare_nuclei, bland_chrom, norm_nucleoli, mitoses, class\n",
    "schema = StructType([StructField('id', DoubleType(), True),\n",
    "                    StructField('clump_thickness', DoubleType(), True),\n",
    "                    StructField('unif_cell_size', DoubleType(), True),\n",
    "                    StructField('unif_cell_shape', DoubleType(), True),\n",
    "                    StructField('marg_adhesion', DoubleType(), True),\n",
    "                    StructField('single_epith_cell_size', DoubleType(), True),\n",
    "                    StructField('bare_nuclei', DoubleType(), True),\n",
    "                    StructField('bland_chrom', DoubleType(), True),\n",
    "                    StructField('norm_nucleoli', DoubleType(), True),\n",
    "                    StructField('mitoses', DoubleType(), True),\n",
    "                    StructField('label', DoubleType(), True)])\n",
    "\n",
    "df = sqlContext.read.format('csv').load('breast-cancer-wisconsin.data.txt', schema = schema)\n",
    "#print(df.count())\n",
    "df = df.dropna()\n",
    "#print(df.count())\n",
    "#df.take(300)\n",
    "\n",
    "from pyspark.sql import functions as F\n",
    "df = df.withColumn('label',\n",
    "    F.when(df['label']== 4.0, 1.0).\n",
    "    otherwise(0.0)) \n",
    "\n",
    "#df.take(200)"
   ]
  },
  {
   "cell_type": "code",
   "execution_count": 2,
   "metadata": {
    "collapsed": true
   },
   "outputs": [],
   "source": [
    "from pyspark.mllib.linalg import Vectors\n",
    "from pyspark.ml.feature import VectorAssembler\n",
    "from pyspark.ml.feature import StringIndexer\n",
    "\n",
    "#label_indexer = StringIndexer(inputCol = 'class', outputCol = 'label')\n",
    "\n",
    "\n",
    "assembler = VectorAssembler(inputCols = ['clump_thickness', 'unif_cell_size', 'unif_cell_shape', 'marg_adhesion', 'single_epith_cell_size', 'bare_nuclei', 'bland_chrom', 'norm_nucleoli', 'mitoses'], outputCol = 'features')\n",
    "\n"
   ]
  },
  {
   "cell_type": "code",
   "execution_count": 5,
   "metadata": {},
   "outputs": [
    {
     "name": "stdout",
     "output_type": "stream",
     "text": [
      "The AUROC is 0.9634371395617071 and the AUPR is 0.9701314162028448.\n"
     ]
    }
   ],
   "source": [
    "from pyspark.ml import Pipeline\n",
    "from pyspark.ml.classification import DecisionTreeClassifier\n",
    "from pyspark.ml.classification import RandomForestClassifier\n",
    "from pyspark.ml.classification import GBTClassifier\n",
    "from pyspark.ml.classification import LinearSVC\n",
    "\n",
    "#classifier = RandomForestClassifier(labelCol = 'label', featuresCol = 'features')\n",
    "classifier = DecisionTreeClassifier(labelCol = 'label', featuresCol = 'features')\n",
    "#classifier = GBTClassifier(labelCol = 'label', featuresCol = 'features')\n",
    "#classifier = LinearSVC(labelCol = 'label', featuresCol = 'features')\n",
    "\n",
    "\n",
    "\n",
    "pipeline = Pipeline(stages = [assembler, classifier])\n",
    "\n",
    "(train, test) = df.randomSplit([0.8, 0.2])\n",
    "\n",
    "model = pipeline.fit(train)\n",
    "\n",
    "\n",
    "from pyspark.ml.evaluation import BinaryClassificationEvaluator\n",
    "\n",
    "predictions = model.transform(test)\n",
    "evaluator = BinaryClassificationEvaluator()\n",
    "\n",
    "auroc = evaluator.evaluate(predictions, {evaluator.metricName: \"areaUnderROC\"})\n",
    "aupr = evaluator.evaluate(predictions, {evaluator.metricName: \"areaUnderPR\"})\n",
    "print(\"The AUROC is %s and the AUPR is %s.\" % (auroc, aupr))\n",
    "\n"
   ]
  },
  {
   "cell_type": "code",
   "execution_count": 12,
   "metadata": {},
   "outputs": [
    {
     "name": "stdout",
     "output_type": "stream",
     "text": [
      "444 239\n"
     ]
    }
   ],
   "source": [
    "#predictions.select(['label', 'prediction']).toPandas().head(50)\n",
    "print(df.where(df['label'] == 0.0).count(), df.where(df['label'] == 1.0).count())"
   ]
  }
 ],
 "metadata": {
  "kernelspec": {
   "display_name": "Python 3",
   "language": "python",
   "name": "python3"
  },
  "language_info": {
   "codemirror_mode": {
    "name": "ipython",
    "version": 3
   },
   "file_extension": ".py",
   "mimetype": "text/x-python",
   "name": "python",
   "nbconvert_exporter": "python",
   "pygments_lexer": "ipython3",
   "version": "3.6.3"
  }
 },
 "nbformat": 4,
 "nbformat_minor": 2
}
