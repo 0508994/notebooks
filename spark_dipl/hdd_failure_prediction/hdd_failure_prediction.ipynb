{
 "cells": [
  {
   "cell_type": "code",
   "execution_count": 1,
   "metadata": {},
   "outputs": [
    {
     "name": "stdout",
     "output_type": "stream",
     "text": [
      "95\n"
     ]
    }
   ],
   "source": [
    "col_names = []\n",
    "\n",
    "with open('cols.txt','r') as f:\n",
    "    for line in f:\n",
    "        for word in line.split():\n",
    "           col_names.append(word)\n",
    "\n",
    "print(len(col_names))"
   ]
  },
  {
   "cell_type": "code",
   "execution_count": 2,
   "metadata": {},
   "outputs": [
    {
     "name": "stdout",
     "output_type": "stream",
     "text": [
      "3179295\n"
     ]
    }
   ],
   "source": [
    "from pyspark.sql import SQLContext\n",
    "from pyspark.sql.types import *\n",
    "\n",
    "sqlContext = SQLContext(sc)\n",
    "\n",
    "type_list = [StructField('date', StringType(), True),\n",
    "             StructField('serial_number', StringType(), True),\n",
    "             StructField('model', StringType(), True),\n",
    "             StructField('capacity_bytes', DoubleType(), True),\n",
    "             StructField('failure', DoubleType(), True)]\n",
    "\n",
    "for i in range(5, len(col_names)):\n",
    "    type_list.append(StructField(col_names[i], DoubleType(), True))\n",
    "\n",
    "\n",
    "schema = StructType(type_list)\n",
    "\n",
    "# https://www.kaggle.com/backblaze/hard-drive-test-data\n",
    "df = sqlContext.read.format('csv').load('E:/ws/harddrive.csv', header = True, nullValue = 'NA',  schema = schema, sep = ',')\n",
    "\n",
    "# drop normalized \n",
    "df = df.select([column for column in df.columns if 'normalized' not in column])\n",
    "\n",
    "print(df.count())"
   ]
  },
  {
   "cell_type": "code",
   "execution_count": 3,
   "metadata": {
    "scrolled": true
   },
   "outputs": [
    {
     "data": {
      "text/html": [
       "<div>\n",
       "<style>\n",
       "    .dataframe thead tr:only-child th {\n",
       "        text-align: right;\n",
       "    }\n",
       "\n",
       "    .dataframe thead th {\n",
       "        text-align: left;\n",
       "    }\n",
       "\n",
       "    .dataframe tbody tr th {\n",
       "        vertical-align: top;\n",
       "    }\n",
       "</style>\n",
       "<table border=\"1\" class=\"dataframe\">\n",
       "  <thead>\n",
       "    <tr style=\"text-align: right;\">\n",
       "      <th></th>\n",
       "      <th>model</th>\n",
       "      <th>number_of_records</th>\n",
       "      <th>number_of_unique_disks</th>\n",
       "    </tr>\n",
       "  </thead>\n",
       "  <tbody>\n",
       "    <tr>\n",
       "      <th>0</th>\n",
       "      <td>ST4000DM000</td>\n",
       "      <td>1681473</td>\n",
       "      <td>35057</td>\n",
       "    </tr>\n",
       "    <tr>\n",
       "      <th>1</th>\n",
       "      <td>HGST HMS5C4040ALE640</td>\n",
       "      <td>368077</td>\n",
       "      <td>7085</td>\n",
       "    </tr>\n",
       "    <tr>\n",
       "      <th>2</th>\n",
       "      <td>HGST HMS5C4040BLE640</td>\n",
       "      <td>186832</td>\n",
       "      <td>4892</td>\n",
       "    </tr>\n",
       "    <tr>\n",
       "      <th>3</th>\n",
       "      <td>Hitachi HDS5C3030ALA630</td>\n",
       "      <td>236690</td>\n",
       "      <td>4563</td>\n",
       "    </tr>\n",
       "    <tr>\n",
       "      <th>4</th>\n",
       "      <td>Hitachi HDS722020ALA330</td>\n",
       "      <td>224052</td>\n",
       "      <td>4502</td>\n",
       "    </tr>\n",
       "    <tr>\n",
       "      <th>5</th>\n",
       "      <td>Hitachi HDS5C4040ALE630</td>\n",
       "      <td>136969</td>\n",
       "      <td>2639</td>\n",
       "    </tr>\n",
       "    <tr>\n",
       "      <th>6</th>\n",
       "      <td>ST6000DX000</td>\n",
       "      <td>97864</td>\n",
       "      <td>1885</td>\n",
       "    </tr>\n",
       "    <tr>\n",
       "      <th>7</th>\n",
       "      <td>WDC WD30EFRX</td>\n",
       "      <td>54686</td>\n",
       "      <td>1073</td>\n",
       "    </tr>\n",
       "    <tr>\n",
       "      <th>8</th>\n",
       "      <td>Hitachi HDS723030ALA640</td>\n",
       "      <td>51940</td>\n",
       "      <td>1000</td>\n",
       "    </tr>\n",
       "    <tr>\n",
       "      <th>9</th>\n",
       "      <td>ST500LM012 HN</td>\n",
       "      <td>31412</td>\n",
       "      <td>703</td>\n",
       "    </tr>\n",
       "    <tr>\n",
       "      <th>10</th>\n",
       "      <td>WDC WD60EFRX</td>\n",
       "      <td>23816</td>\n",
       "      <td>464</td>\n",
       "    </tr>\n",
       "    <tr>\n",
       "      <th>11</th>\n",
       "      <td>WDC WD5000LPVX</td>\n",
       "      <td>14706</td>\n",
       "      <td>304</td>\n",
       "    </tr>\n",
       "    <tr>\n",
       "      <th>12</th>\n",
       "      <td>ST31500541AS</td>\n",
       "      <td>4428</td>\n",
       "      <td>222</td>\n",
       "    </tr>\n",
       "    <tr>\n",
       "      <th>13</th>\n",
       "      <td>WDC WD10EADS</td>\n",
       "      <td>1342</td>\n",
       "      <td>214</td>\n",
       "    </tr>\n",
       "    <tr>\n",
       "      <th>14</th>\n",
       "      <td>ST4000DX000</td>\n",
       "      <td>10847</td>\n",
       "      <td>212</td>\n",
       "    </tr>\n",
       "    <tr>\n",
       "      <th>15</th>\n",
       "      <td>TOSHIBA MD04ABA400V</td>\n",
       "      <td>7570</td>\n",
       "      <td>146</td>\n",
       "    </tr>\n",
       "    <tr>\n",
       "      <th>16</th>\n",
       "      <td>WDC WD20EFRX</td>\n",
       "      <td>6871</td>\n",
       "      <td>145</td>\n",
       "    </tr>\n",
       "    <tr>\n",
       "      <th>17</th>\n",
       "      <td>WDC WD1600AAJS</td>\n",
       "      <td>5003</td>\n",
       "      <td>100</td>\n",
       "    </tr>\n",
       "    <tr>\n",
       "      <th>18</th>\n",
       "      <td>HGST HDS5C4040ALE630</td>\n",
       "      <td>3615</td>\n",
       "      <td>75</td>\n",
       "    </tr>\n",
       "    <tr>\n",
       "      <th>19</th>\n",
       "      <td>ST320LT007</td>\n",
       "      <td>2687</td>\n",
       "      <td>73</td>\n",
       "    </tr>\n",
       "    <tr>\n",
       "      <th>20</th>\n",
       "      <td>ST9250315AS</td>\n",
       "      <td>2686</td>\n",
       "      <td>56</td>\n",
       "    </tr>\n",
       "    <tr>\n",
       "      <th>21</th>\n",
       "      <td>ST3160316AS</td>\n",
       "      <td>2480</td>\n",
       "      <td>52</td>\n",
       "    </tr>\n",
       "    <tr>\n",
       "      <th>22</th>\n",
       "      <td>TOSHIBA DT01ACA300</td>\n",
       "      <td>2435</td>\n",
       "      <td>48</td>\n",
       "    </tr>\n",
       "    <tr>\n",
       "      <th>23</th>\n",
       "      <td>WDC WD10EACS</td>\n",
       "      <td>249</td>\n",
       "      <td>47</td>\n",
       "    </tr>\n",
       "    <tr>\n",
       "      <th>24</th>\n",
       "      <td>ST3160318AS</td>\n",
       "      <td>2299</td>\n",
       "      <td>47</td>\n",
       "    </tr>\n",
       "    <tr>\n",
       "      <th>25</th>\n",
       "      <td>TOSHIBA MD04ABA500V</td>\n",
       "      <td>2340</td>\n",
       "      <td>46</td>\n",
       "    </tr>\n",
       "    <tr>\n",
       "      <th>26</th>\n",
       "      <td>WDC WD40EFRX</td>\n",
       "      <td>2392</td>\n",
       "      <td>46</td>\n",
       "    </tr>\n",
       "    <tr>\n",
       "      <th>27</th>\n",
       "      <td>HGST HUH728080ALE600</td>\n",
       "      <td>2340</td>\n",
       "      <td>45</td>\n",
       "    </tr>\n",
       "    <tr>\n",
       "      <th>28</th>\n",
       "      <td>HGST HDS724040ALE640</td>\n",
       "      <td>2080</td>\n",
       "      <td>40</td>\n",
       "    </tr>\n",
       "    <tr>\n",
       "      <th>29</th>\n",
       "      <td>ST250LM004 HN</td>\n",
       "      <td>1683</td>\n",
       "      <td>35</td>\n",
       "    </tr>\n",
       "  </tbody>\n",
       "</table>\n",
       "</div>"
      ],
      "text/plain": [
       "                      model  number_of_records  number_of_unique_disks\n",
       "0               ST4000DM000            1681473                   35057\n",
       "1      HGST HMS5C4040ALE640             368077                    7085\n",
       "2      HGST HMS5C4040BLE640             186832                    4892\n",
       "3   Hitachi HDS5C3030ALA630             236690                    4563\n",
       "4   Hitachi HDS722020ALA330             224052                    4502\n",
       "5   Hitachi HDS5C4040ALE630             136969                    2639\n",
       "6               ST6000DX000              97864                    1885\n",
       "7              WDC WD30EFRX              54686                    1073\n",
       "8   Hitachi HDS723030ALA640              51940                    1000\n",
       "9             ST500LM012 HN              31412                     703\n",
       "10             WDC WD60EFRX              23816                     464\n",
       "11           WDC WD5000LPVX              14706                     304\n",
       "12             ST31500541AS               4428                     222\n",
       "13             WDC WD10EADS               1342                     214\n",
       "14              ST4000DX000              10847                     212\n",
       "15      TOSHIBA MD04ABA400V               7570                     146\n",
       "16             WDC WD20EFRX               6871                     145\n",
       "17           WDC WD1600AAJS               5003                     100\n",
       "18     HGST HDS5C4040ALE630               3615                      75\n",
       "19               ST320LT007               2687                      73\n",
       "20              ST9250315AS               2686                      56\n",
       "21              ST3160316AS               2480                      52\n",
       "22       TOSHIBA DT01ACA300               2435                      48\n",
       "23             WDC WD10EACS                249                      47\n",
       "24              ST3160318AS               2299                      47\n",
       "25      TOSHIBA MD04ABA500V               2340                      46\n",
       "26             WDC WD40EFRX               2392                      46\n",
       "27     HGST HUH728080ALE600               2340                      45\n",
       "28     HGST HDS724040ALE640               2080                      40\n",
       "29            ST250LM004 HN               1683                      35"
      ]
     },
     "execution_count": 3,
     "metadata": {},
     "output_type": "execute_result"
    }
   ],
   "source": [
    "from pyspark.sql.functions import count\n",
    "from pyspark.sql.functions import countDistinct\n",
    "from pyspark.sql.functions import col\n",
    "\n",
    "\n",
    "# broj diskova za svaki model\n",
    "df.groupBy('model').agg(count('*').alias('number_of_records'), countDistinct('serial_number').alias('number_of_unique_disks')) \\\n",
    "                   .orderBy('number_of_unique_disks', ascending = False) \\\n",
    "                   .toPandas() \\\n",
    "                   .head(30) \n"
   ]
  },
  {
   "cell_type": "code",
   "execution_count": 5,
   "metadata": {},
   "outputs": [
    {
     "data": {
      "text/html": [
       "<div>\n",
       "<style>\n",
       "    .dataframe thead tr:only-child th {\n",
       "        text-align: right;\n",
       "    }\n",
       "\n",
       "    .dataframe thead th {\n",
       "        text-align: left;\n",
       "    }\n",
       "\n",
       "    .dataframe tbody tr th {\n",
       "        vertical-align: top;\n",
       "    }\n",
       "</style>\n",
       "<table border=\"1\" class=\"dataframe\">\n",
       "  <thead>\n",
       "    <tr style=\"text-align: right;\">\n",
       "      <th></th>\n",
       "      <th>model</th>\n",
       "      <th>failure_cnt</th>\n",
       "    </tr>\n",
       "  </thead>\n",
       "  <tbody>\n",
       "    <tr>\n",
       "      <th>0</th>\n",
       "      <td>ST4000DM000</td>\n",
       "      <td>139.0</td>\n",
       "    </tr>\n",
       "    <tr>\n",
       "      <th>1</th>\n",
       "      <td>ST320LT007</td>\n",
       "      <td>15.0</td>\n",
       "    </tr>\n",
       "    <tr>\n",
       "      <th>2</th>\n",
       "      <td>Hitachi HDS722020ALA330</td>\n",
       "      <td>13.0</td>\n",
       "    </tr>\n",
       "    <tr>\n",
       "      <th>3</th>\n",
       "      <td>WDC WD800AAJS</td>\n",
       "      <td>6.0</td>\n",
       "    </tr>\n",
       "    <tr>\n",
       "      <th>4</th>\n",
       "      <td>WDC WD30EFRX</td>\n",
       "      <td>6.0</td>\n",
       "    </tr>\n",
       "    <tr>\n",
       "      <th>5</th>\n",
       "      <td>Hitachi HDS5C3030ALA630</td>\n",
       "      <td>5.0</td>\n",
       "    </tr>\n",
       "    <tr>\n",
       "      <th>6</th>\n",
       "      <td>Hitachi HDS5C4040ALE630</td>\n",
       "      <td>4.0</td>\n",
       "    </tr>\n",
       "    <tr>\n",
       "      <th>7</th>\n",
       "      <td>WDC WD20EFRX</td>\n",
       "      <td>3.0</td>\n",
       "    </tr>\n",
       "    <tr>\n",
       "      <th>8</th>\n",
       "      <td>HGST HMS5C4040ALE640</td>\n",
       "      <td>2.0</td>\n",
       "    </tr>\n",
       "    <tr>\n",
       "      <th>9</th>\n",
       "      <td>WDC WD1600AAJB</td>\n",
       "      <td>2.0</td>\n",
       "    </tr>\n",
       "    <tr>\n",
       "      <th>10</th>\n",
       "      <td>ST6000DX000</td>\n",
       "      <td>2.0</td>\n",
       "    </tr>\n",
       "    <tr>\n",
       "      <th>11</th>\n",
       "      <td>ST4000DX000</td>\n",
       "      <td>2.0</td>\n",
       "    </tr>\n",
       "    <tr>\n",
       "      <th>12</th>\n",
       "      <td>WDC WD1600AAJS</td>\n",
       "      <td>2.0</td>\n",
       "    </tr>\n",
       "    <tr>\n",
       "      <th>13</th>\n",
       "      <td>ST3160318AS</td>\n",
       "      <td>2.0</td>\n",
       "    </tr>\n",
       "    <tr>\n",
       "      <th>14</th>\n",
       "      <td>WDC WD10EADS</td>\n",
       "      <td>2.0</td>\n",
       "    </tr>\n",
       "    <tr>\n",
       "      <th>15</th>\n",
       "      <td>ST9250315AS</td>\n",
       "      <td>1.0</td>\n",
       "    </tr>\n",
       "    <tr>\n",
       "      <th>16</th>\n",
       "      <td>WDC WD60EFRX</td>\n",
       "      <td>1.0</td>\n",
       "    </tr>\n",
       "    <tr>\n",
       "      <th>17</th>\n",
       "      <td>WDC WD800AAJB</td>\n",
       "      <td>1.0</td>\n",
       "    </tr>\n",
       "    <tr>\n",
       "      <th>18</th>\n",
       "      <td>TOSHIBA DT01ACA300</td>\n",
       "      <td>1.0</td>\n",
       "    </tr>\n",
       "    <tr>\n",
       "      <th>19</th>\n",
       "      <td>WDC WD3200BEKT</td>\n",
       "      <td>1.0</td>\n",
       "    </tr>\n",
       "    <tr>\n",
       "      <th>20</th>\n",
       "      <td>TOSHIBA MD04ABA500V</td>\n",
       "      <td>1.0</td>\n",
       "    </tr>\n",
       "    <tr>\n",
       "      <th>21</th>\n",
       "      <td>WDC WD800BB</td>\n",
       "      <td>1.0</td>\n",
       "    </tr>\n",
       "    <tr>\n",
       "      <th>22</th>\n",
       "      <td>ST3160316AS</td>\n",
       "      <td>1.0</td>\n",
       "    </tr>\n",
       "    <tr>\n",
       "      <th>23</th>\n",
       "      <td>HGST HMS5C4040BLE640</td>\n",
       "      <td>1.0</td>\n",
       "    </tr>\n",
       "    <tr>\n",
       "      <th>24</th>\n",
       "      <td>WDC WD3200BEKX</td>\n",
       "      <td>1.0</td>\n",
       "    </tr>\n",
       "    <tr>\n",
       "      <th>25</th>\n",
       "      <td>ST3500320AS</td>\n",
       "      <td>0.0</td>\n",
       "    </tr>\n",
       "    <tr>\n",
       "      <th>26</th>\n",
       "      <td>WDC WD5002ABYS</td>\n",
       "      <td>0.0</td>\n",
       "    </tr>\n",
       "    <tr>\n",
       "      <th>27</th>\n",
       "      <td>WDC WD2500BEVT</td>\n",
       "      <td>0.0</td>\n",
       "    </tr>\n",
       "    <tr>\n",
       "      <th>28</th>\n",
       "      <td>WDC WD3200LPVX</td>\n",
       "      <td>0.0</td>\n",
       "    </tr>\n",
       "    <tr>\n",
       "      <th>29</th>\n",
       "      <td>WDC WD1001FALS</td>\n",
       "      <td>0.0</td>\n",
       "    </tr>\n",
       "  </tbody>\n",
       "</table>\n",
       "</div>"
      ],
      "text/plain": [
       "                      model  failure_cnt\n",
       "0               ST4000DM000        139.0\n",
       "1                ST320LT007         15.0\n",
       "2   Hitachi HDS722020ALA330         13.0\n",
       "3             WDC WD800AAJS          6.0\n",
       "4              WDC WD30EFRX          6.0\n",
       "5   Hitachi HDS5C3030ALA630          5.0\n",
       "6   Hitachi HDS5C4040ALE630          4.0\n",
       "7              WDC WD20EFRX          3.0\n",
       "8      HGST HMS5C4040ALE640          2.0\n",
       "9            WDC WD1600AAJB          2.0\n",
       "10              ST6000DX000          2.0\n",
       "11              ST4000DX000          2.0\n",
       "12           WDC WD1600AAJS          2.0\n",
       "13              ST3160318AS          2.0\n",
       "14             WDC WD10EADS          2.0\n",
       "15              ST9250315AS          1.0\n",
       "16             WDC WD60EFRX          1.0\n",
       "17            WDC WD800AAJB          1.0\n",
       "18       TOSHIBA DT01ACA300          1.0\n",
       "19           WDC WD3200BEKT          1.0\n",
       "20      TOSHIBA MD04ABA500V          1.0\n",
       "21              WDC WD800BB          1.0\n",
       "22              ST3160316AS          1.0\n",
       "23     HGST HMS5C4040BLE640          1.0\n",
       "24           WDC WD3200BEKX          1.0\n",
       "25              ST3500320AS          0.0\n",
       "26           WDC WD5002ABYS          0.0\n",
       "27           WDC WD2500BEVT          0.0\n",
       "28           WDC WD3200LPVX          0.0\n",
       "29           WDC WD1001FALS          0.0"
      ]
     },
     "execution_count": 5,
     "metadata": {},
     "output_type": "execute_result"
    }
   ],
   "source": [
    "# otkazi po modelu\n",
    "df.groupBy('model').sum('failure') \\\n",
    "                   .select('model', col('sum(failure)').alias('failure_cnt')) \\\n",
    "                   .orderBy('failure_cnt', ascending = False) \\\n",
    "                   .toPandas() \\\n",
    "                   .head(30)"
   ]
  },
  {
   "cell_type": "code",
   "execution_count": 5,
   "metadata": {},
   "outputs": [
    {
     "name": "stdout",
     "output_type": "stream",
     "text": [
      "No. of records:  1681473\n",
      "smart_1_raw  is null in  0  rows\n",
      "smart_2_raw  is null in  1681473  rows\n",
      "smart_3_raw  is null in  0  rows\n",
      "smart_4_raw  is null in  0  rows\n",
      "smart_5_raw  is null in  0  rows\n",
      "smart_7_raw  is null in  0  rows\n",
      "smart_8_raw  is null in  1681473  rows\n",
      "smart_9_raw  is null in  0  rows\n",
      "smart_10_raw  is null in  0  rows\n",
      "smart_11_raw  is null in  1681473  rows\n",
      "smart_12_raw  is null in  0  rows\n",
      "smart_13_raw  is null in  1681473  rows\n",
      "smart_15_raw  is null in  1681473  rows\n",
      "smart_22_raw  is null in  1681473  rows\n",
      "smart_183_raw  is null in  0  rows\n",
      "smart_184_raw  is null in  0  rows\n",
      "smart_187_raw  is null in  0  rows\n",
      "smart_188_raw  is null in  0  rows\n",
      "smart_189_raw  is null in  0  rows\n",
      "smart_190_raw  is null in  0  rows\n",
      "smart_191_raw  is null in  0  rows\n",
      "smart_192_raw  is null in  0  rows\n",
      "smart_193_raw  is null in  0  rows\n",
      "smart_194_raw  is null in  0  rows\n",
      "smart_195_raw  is null in  1681473  rows\n",
      "smart_196_raw  is null in  1681473  rows\n",
      "smart_197_raw  is null in  0  rows\n",
      "smart_198_raw  is null in  0  rows\n",
      "smart_199_raw  is null in  0  rows\n",
      "smart_200_raw  is null in  1681473  rows\n",
      "smart_201_raw  is null in  1681473  rows\n",
      "smart_220_raw  is null in  1681473  rows\n",
      "smart_222_raw  is null in  1681473  rows\n",
      "smart_223_raw  is null in  1681473  rows\n",
      "smart_224_raw  is null in  1681473  rows\n",
      "smart_225_raw  is null in  1681473  rows\n",
      "smart_226_raw  is null in  1681473  rows\n",
      "smart_240_raw  is null in  0  rows\n",
      "smart_241_raw  is null in  0  rows\n",
      "smart_242_raw  is null in  0  rows\n",
      "smart_250_raw  is null in  1681473  rows\n",
      "smart_251_raw  is null in  1681473  rows\n",
      "smart_252_raw  is null in  1681473  rows\n",
      "smart_254_raw  is null in  1681473  rows\n",
      "smart_255_raw  is null in  1681473  rows\n"
     ]
    }
   ],
   "source": [
    "# izdvajanje NULL kolona\n",
    "df = df.where(df.model == 'ST4000DM000')\n",
    "\n",
    "\n",
    "number_of_records = df.count()\n",
    "null_columns_dict = {}\n",
    "print('No. of records: ', number_of_records)\n",
    "for i in range(5, len(col_names)):\n",
    "    if 'normalized' not in col_names[i]: # already removed\n",
    "        temp = df.where(col(col_names[i]).isNull()).count()\n",
    "        null_columns_dict[col_names[i]] = temp\n",
    "        print(col_names[i], ' is null in ', temp, ' rows')"
   ]
  },
  {
   "cell_type": "code",
   "execution_count": 52,
   "metadata": {},
   "outputs": [
    {
     "name": "stdout",
     "output_type": "stream",
     "text": [
      "0\n"
     ]
    }
   ],
   "source": [
    "# s.m.a.r.t kolone koje imaju null vrednosti u svim redovima za ST4000DM000 hdd\n",
    "null_columns_dict['failure'] = 0 # label\n",
    "df_new = df.select([key for key, value in null_columns_dict.items() if value != number_of_records])"
   ]
  },
  {
   "cell_type": "code",
   "execution_count": 3,
   "metadata": {
    "collapsed": true
   },
   "outputs": [],
   "source": [
    "# hardocoded ćelija - lista select_cols dobijena na osnovu rezultate predhodne dve ćelije\n",
    "\n",
    "select_cols = ['smart_1_raw', 'smart_3_raw', 'smart_4_raw', 'smart_5_raw', 'smart_7_raw', 'smart_9_raw', 'smart_10_raw',\n",
    "               'smart_12_raw', 'smart_183_raw', 'smart_184_raw', 'smart_187_raw', 'smart_188_raw', 'smart_189_raw',\n",
    "               'smart_190_raw', 'smart_191_raw', 'smart_192_raw', 'smart_193_raw', 'smart_194_raw', 'smart_197_raw',\n",
    "               'smart_198_raw', 'smart_199_raw', 'smart_240_raw', 'smart_241_raw', 'smart_242_raw', 'failure']\n",
    "\n",
    "select_cols.insert(0, 'date')\n",
    "select_cols.insert(0, 'serial_number')\n",
    "select_cols.insert(0, 'model')\n",
    "\n",
    "df = df.where(df.model == 'ST4000DM000')\n",
    "df_new = df.select(select_cols)"
   ]
  },
  {
   "cell_type": "code",
   "execution_count": 4,
   "metadata": {},
   "outputs": [
    {
     "name": "stdout",
     "output_type": "stream",
     "text": [
      "Failure number before drop:  139\n",
      "Failure number after drop:  131\n"
     ]
    }
   ],
   "source": [
    "# izbacivanje duplikata\n",
    "print('Failure number before drop: ', df_new.where(df_new.failure == 1.0).count())\n",
    "df_new = df_new.dropDuplicates() \n",
    "print('Failure number after drop: ', df_new.where(df_new.failure == 1.0).count()) "
   ]
  },
  {
   "cell_type": "code",
   "execution_count": 21,
   "metadata": {},
   "outputs": [
    {
     "data": {
      "text/html": [
       "<div>\n",
       "<style>\n",
       "    .dataframe thead tr:only-child th {\n",
       "        text-align: right;\n",
       "    }\n",
       "\n",
       "    .dataframe thead th {\n",
       "        text-align: left;\n",
       "    }\n",
       "\n",
       "    .dataframe tbody tr th {\n",
       "        vertical-align: top;\n",
       "    }\n",
       "</style>\n",
       "<table border=\"1\" class=\"dataframe\">\n",
       "  <thead>\n",
       "    <tr style=\"text-align: right;\">\n",
       "      <th></th>\n",
       "      <th>model</th>\n",
       "      <th>serial_number</th>\n",
       "      <th>date</th>\n",
       "      <th>smart_1_raw</th>\n",
       "      <th>smart_3_raw</th>\n",
       "      <th>smart_4_raw</th>\n",
       "      <th>smart_5_raw</th>\n",
       "      <th>smart_7_raw</th>\n",
       "      <th>smart_9_raw</th>\n",
       "      <th>smart_10_raw</th>\n",
       "      <th>...</th>\n",
       "      <th>smart_194_raw</th>\n",
       "      <th>smart_197_raw</th>\n",
       "      <th>smart_198_raw</th>\n",
       "      <th>smart_199_raw</th>\n",
       "      <th>smart_240_raw</th>\n",
       "      <th>smart_241_raw</th>\n",
       "      <th>smart_242_raw</th>\n",
       "      <th>failure</th>\n",
       "      <th>date_time</th>\n",
       "      <th>day</th>\n",
       "    </tr>\n",
       "  </thead>\n",
       "  <tbody>\n",
       "    <tr>\n",
       "      <th>0</th>\n",
       "      <td>ST4000DM000</td>\n",
       "      <td>S301NGZM</td>\n",
       "      <td>2016-01-01</td>\n",
       "      <td>37259224.0</td>\n",
       "      <td>0.0</td>\n",
       "      <td>5.0</td>\n",
       "      <td>0.0</td>\n",
       "      <td>3.348167e-316</td>\n",
       "      <td>1539.0</td>\n",
       "      <td>0.0</td>\n",
       "      <td>...</td>\n",
       "      <td>27.0</td>\n",
       "      <td>0.0</td>\n",
       "      <td>0.0</td>\n",
       "      <td>0.0</td>\n",
       "      <td>7.233121e-321</td>\n",
       "      <td>5.364457e-314</td>\n",
       "      <td>3.365761e-315</td>\n",
       "      <td>0.0</td>\n",
       "      <td>2016-01-01</td>\n",
       "      <td>1</td>\n",
       "    </tr>\n",
       "    <tr>\n",
       "      <th>1</th>\n",
       "      <td>ST4000DM000</td>\n",
       "      <td>S301NYEV</td>\n",
       "      <td>2016-01-01</td>\n",
       "      <td>67166616.0</td>\n",
       "      <td>0.0</td>\n",
       "      <td>9.0</td>\n",
       "      <td>0.0</td>\n",
       "      <td>1.625173e-317</td>\n",
       "      <td>694.0</td>\n",
       "      <td>0.0</td>\n",
       "      <td>...</td>\n",
       "      <td>29.0</td>\n",
       "      <td>0.0</td>\n",
       "      <td>0.0</td>\n",
       "      <td>0.0</td>\n",
       "      <td>2.430803e-321</td>\n",
       "      <td>4.493596e-315</td>\n",
       "      <td>1.318849e-315</td>\n",
       "      <td>0.0</td>\n",
       "      <td>2016-01-01</td>\n",
       "      <td>1</td>\n",
       "    </tr>\n",
       "  </tbody>\n",
       "</table>\n",
       "<p>2 rows × 30 columns</p>\n",
       "</div>"
      ],
      "text/plain": [
       "         model serial_number        date  smart_1_raw  smart_3_raw  \\\n",
       "0  ST4000DM000      S301NGZM  2016-01-01   37259224.0          0.0   \n",
       "1  ST4000DM000      S301NYEV  2016-01-01   67166616.0          0.0   \n",
       "\n",
       "   smart_4_raw  smart_5_raw    smart_7_raw  smart_9_raw  smart_10_raw ...   \\\n",
       "0          5.0          0.0  3.348167e-316       1539.0           0.0 ...    \n",
       "1          9.0          0.0  1.625173e-317        694.0           0.0 ...    \n",
       "\n",
       "   smart_194_raw  smart_197_raw  smart_198_raw  smart_199_raw  smart_240_raw  \\\n",
       "0           27.0            0.0            0.0            0.0  7.233121e-321   \n",
       "1           29.0            0.0            0.0            0.0  2.430803e-321   \n",
       "\n",
       "   smart_241_raw  smart_242_raw  failure  date_time  day  \n",
       "0  5.364457e-314  3.365761e-315      0.0 2016-01-01    1  \n",
       "1  4.493596e-315  1.318849e-315      0.0 2016-01-01    1  \n",
       "\n",
       "[2 rows x 30 columns]"
      ]
     },
     "execution_count": 21,
     "metadata": {},
     "output_type": "execute_result"
    }
   ],
   "source": [
    "import pandas as pd\n",
    "import matplotlib.pyplot as plt\n",
    "import seaborn as sb\n",
    "\n",
    "sample_data = df_new.sample(False, 1.0).toPandas() # > 4 GB RAM \n",
    "sample_data['date_time'] = pd.to_datetime(sample_data['date'])\n",
    "sample_data['day'] = sample_data['date_time'].dt.dayofyear\n",
    "sample_data.head(2)"
   ]
  },
  {
   "cell_type": "code",
   "execution_count": 10,
   "metadata": {},
   "outputs": [
    {
     "data": {
      "image/png": "[encoded data removed]",
      "text/plain": [
       "<matplotlib.figure.Figure at 0x173c6820b00>"
      ]
     },
     "metadata": {},
     "output_type": "display_data"
    }
   ],
   "source": [
    "# otkazi ne smeju da budu koncentrisani u istom danu !\n",
    "\n",
    "sample_data.plot(kind = 'scatter', x = 'day', y = 'failure')\n",
    "plt.show()"
   ]
  },
  {
   "cell_type": "code",
   "execution_count": 11,
   "metadata": {},
   "outputs": [
    {
     "data": {
      "image/png": "[encoded data removed]",
      "text/plain": [
       "<matplotlib.figure.Figure at 0x1738f776d30>"
      ]
     },
     "metadata": {},
     "output_type": "display_data"
    }
   ],
   "source": [
    "sample_data.drop(['model', 'serial_number', 'date', 'date_time', 'day'], 1, inplace = True)\n",
    "corr = sample_data.corr()\n",
    "sb.heatmap(corr)\n",
    "plt.show()"
   ]
  },
  {
   "cell_type": "code",
   "execution_count": 18,
   "metadata": {},
   "outputs": [
    {
     "data": {
      "text/plain": [
       "4683"
      ]
     },
     "execution_count": 18,
     "metadata": {},
     "output_type": "execute_result"
    }
   ],
   "source": [
    "# import objgraph\n",
    "# objgraph.show_refs([sample_data], filename = 'sample_graph.png')\n",
    "\n",
    "# oslobodi memoriju\n",
    "import gc\n",
    "del corr\n",
    "del plt\n",
    "del sb\n",
    "del sample_data\n",
    "gc.collect()\n"
   ]
  },
  {
   "cell_type": "code",
   "execution_count": 5,
   "metadata": {},
   "outputs": [
    {
     "name": "stdout",
     "output_type": "stream",
     "text": [
      "21\n"
     ]
    }
   ],
   "source": [
    "from pyspark.mllib.linalg import Vectors\n",
    "from pyspark.ml.feature import VectorAssembler\n",
    "from pyspark.ml.feature import Normalizer\n",
    "\n",
    "names_for_assembler = df_new.columns \n",
    "\n",
    "# drop label and correlated features\n",
    "names_for_assembler.remove('failure')\n",
    "names_for_assembler.remove('smart_192_raw')\n",
    "names_for_assembler.remove('smart_194_raw')\n",
    "names_for_assembler.remove('smart_198_raw')\n",
    "# drop uselles\n",
    "names_for_assembler.remove('model')\n",
    "names_for_assembler.remove('serial_number')\n",
    "names_for_assembler.remove('date')\n",
    "\n",
    "assembler = VectorAssembler(inputCols = names_for_assembler, outputCol = 'features')\n",
    "normalizer = Normalizer(inputCol = 'features', outputCol = 'features_norm', p = 1.0)\n",
    "print(len(names_for_assembler))"
   ]
  },
  {
   "cell_type": "code",
   "execution_count": 25,
   "metadata": {},
   "outputs": [
    {
     "name": "stdout",
     "output_type": "stream",
     "text": [
      "200~ 0.0 samples | 1.0:  131  | 0.0:  194\n"
     ]
    }
   ],
   "source": [
    "df_200zs = df_new.sampleBy('failure', fractions = {0.0: 0.000124, 1.0: 1.0}, seed = 43)\n",
    "\n",
    "print('200~ 0.0 samples | ''1.0: ', df_200zs.where(df_200zs.failure == 1.0).count(), \\\n",
    "                     ' | ' '0.0: ', df_200zs.where(df_200zs.failure == 0.0).count())"
   ]
  },
  {
   "cell_type": "code",
   "execution_count": 79,
   "metadata": {},
   "outputs": [
    {
     "name": "stdout",
     "output_type": "stream",
     "text": [
      "500~ 0.0 samples | 1.0:  131  | 0.0:  509\n"
     ]
    }
   ],
   "source": [
    "df_500zs = df_new.sampleBy('failure', fractions = {0.0: 500/1617589, 1.0: 1.0}, seed = 43)\n",
    "\n",
    "print('500~ 0.0 samples | ''1.0: ', df_500zs.where(df_500zs.failure == 1.0).count(), \\\n",
    "                     ' | ' '0.0: ', df_500zs.where(df_500zs.failure == 0.0).count())"
   ]
  },
  {
   "cell_type": "code",
   "execution_count": 17,
   "metadata": {},
   "outputs": [
    {
     "name": "stdout",
     "output_type": "stream",
     "text": [
      "1000~ 0.0 samples | 1.0:  131  | 0.0:  996\n"
     ]
    }
   ],
   "source": [
    "df_1000zs = df_new.sampleBy('failure', fractions = {0.0: 1000/1617589, 1.0: 1.0}, seed = 43)\n",
    "\n",
    "print('1000~ 0.0 samples | ''1.0: ', df_1000zs.where(df_1000zs.failure == 1.0).count(), \\\n",
    "                     ' | ' '0.0: ', df_1000zs.where(df_1000zs.failure == 0.0).count())"
   ]
  },
  {
   "cell_type": "code",
   "execution_count": 20,
   "metadata": {},
   "outputs": [
    {
     "name": "stdout",
     "output_type": "stream",
     "text": [
      "2000~ 0.0 samples | 1.0:  131  | 0.0:  1988\n"
     ]
    }
   ],
   "source": [
    "df_2000zs = df_new.sampleBy('failure', fractions = {0.0: 2000/1617589, 1.0: 1.0}, seed = 43)\n",
    "\n",
    "print('2000~ 0.0 samples | ''1.0: ', df_2000zs.where(df_2000zs.failure == 1.0).count(), \\\n",
    "                     ' | ' '0.0: ', df_2000zs.where(df_2000zs.failure == 0.0).count())"
   ]
  },
  {
   "cell_type": "code",
   "execution_count": 22,
   "metadata": {},
   "outputs": [
    {
     "name": "stdout",
     "output_type": "stream",
     "text": [
      "5000~ 0.0 samples | 1.0:  131  | 0.0:  4971\n"
     ]
    }
   ],
   "source": [
    "df_5000zs = df_new.sampleBy('failure', fractions = {0.0: 5000/1617589, 1.0: 1.0}, seed = 43)\n",
    "\n",
    "print('5000~ 0.0 samples | ''1.0: ', df_5000zs.where(df_5000zs.failure == 1.0).count(), \\\n",
    "                     ' | ' '0.0: ', df_5000zs.where(df_5000zs.failure == 0.0).count())"
   ]
  },
  {
   "cell_type": "code",
   "execution_count": 37,
   "metadata": {},
   "outputs": [
    {
     "name": "stdout",
     "output_type": "stream",
     "text": [
      "10000~ 0.0 samples | 1.0:  131  | 0.0:  9976\n"
     ]
    }
   ],
   "source": [
    "df_10000zs = df_new.sampleBy('failure', fractions = {0.0: 10000/1617589, 1.0: 1.0}, seed = 43)\n",
    "\n",
    "print('10000~ 0.0 samples | ''1.0: ', df_10000zs.where(df_10000zs.failure == 1.0).count(), \\\n",
    "                     ' | ' '0.0: ', df_10000zs.where(df_10000zs.failure == 0.0).count())"
   ]
  },
  {
   "cell_type": "code",
   "execution_count": 43,
   "metadata": {},
   "outputs": [
    {
     "name": "stdout",
     "output_type": "stream",
     "text": [
      "30000~ 0.0 samples | 1.0:  131  | 0.0:  29929\n"
     ]
    }
   ],
   "source": [
    "df_30000zs = df_new.sampleBy('failure', fractions = {0.0: 30000/1617589, 1.0: 1.0}, seed = 43)\n",
    "\n",
    "print('30000~ 0.0 samples | ''1.0: ', df_30000zs.where(df_30000zs.failure == 1.0).count(), \\\n",
    "                     ' | ' '0.0: ', df_30000zs.where(df_30000zs.failure == 0.0).count())"
   ]
  },
  {
   "cell_type": "code",
   "execution_count": 52,
   "metadata": {},
   "outputs": [
    {
     "name": "stdout",
     "output_type": "stream",
     "text": [
      "80000~ 0.0 samples | 1.0:  131  | 0.0:  79836\n"
     ]
    }
   ],
   "source": [
    "df_80000zs = df_new.sampleBy('failure', fractions = {0.0: 80000/1617589, 1.0: 1.0}, seed = 43)\n",
    "\n",
    "print('80000~ 0.0 samples | ''1.0: ', df_80000zs.where(df_80000zs.failure == 1.0).count(), \\\n",
    "                     ' | ' '0.0: ', df_80000zs.where(df_80000zs.failure == 0.0).count())"
   ]
  },
  {
   "cell_type": "code",
   "execution_count": 87,
   "metadata": {},
   "outputs": [
    {
     "name": "stdout",
     "output_type": "stream",
     "text": [
      "120000~ 0.0 samples | 1.0:  131  | 0.0:  119896\n"
     ]
    }
   ],
   "source": [
    "df_120000zs = df_new.sampleBy('failure', fractions = {0.0: 120000/1617589, 1.0: 1.0}, seed = 43)\n",
    "\n",
    "print('120000~ 0.0 samples | ''1.0: ', df_120000zs.where(df_120000zs.failure == 1.0).count(), \\\n",
    "                     ' | ' '0.0: ', df_120000zs.where(df_120000zs.failure == 0.0).count())"
   ]
  },
  {
   "cell_type": "code",
   "execution_count": 88,
   "metadata": {},
   "outputs": [
    {
     "name": "stdout",
     "output_type": "stream",
     "text": [
      "30014\n",
      "35\n"
     ]
    }
   ],
   "source": [
    "from pyspark.ml import Pipeline\n",
    "from pyspark.ml.classification import DecisionTreeClassifier\n",
    "from pyspark.ml.classification import RandomForestClassifier\n",
    "from pyspark.ml.classification import GBTClassifier\n",
    "from pyspark.ml.classification import LinearSVC\n",
    "\n",
    "\n",
    "#(train, test) = df_200zs.randomSplit([0.75, 0.25])\n",
    "#(train, test) = df_500zs.randomSplit([0.75, 0.25])\n",
    "#(train, test) = df_1000zs.randomSplit([0.75, 0.25])\n",
    "#(train, test) = df_2000zs.randomSplit([0.75, 0.25])\n",
    "#(train, test) = df_5000zs.randomSplit([0.75, 0.25])\n",
    "#(train, test) = df_10000zs.randomSplit([0.75, 0.25])\n",
    "#(train, test) = df_30000zs.randomSplit([0.75, 0.25])\n",
    "#(train, test) = df_80000zs.randomSplit([0.75, 0.25])\n",
    "(train, test) = df_120000zs.randomSplit([0.75, 0.25])\n",
    "\n",
    "nr_of_failed = test.where(test.failure == 1.0).count()\n",
    "test_size = test.count()\n",
    "\n",
    "train.cache()\n",
    "print(test_size)\n",
    "print(nr_of_failed)"
   ]
  },
  {
   "cell_type": "code",
   "execution_count": 89,
   "metadata": {},
   "outputs": [
    {
     "name": "stdout",
     "output_type": "stream",
     "text": [
      "Raw accuracy:  0.9990004664489904\n",
      "Failures predicted:  0.34285714285714286\n",
      "The AUROC is 0.14629859949583757 and the AUPR is 0.14344216281891217.\n"
     ]
    }
   ],
   "source": [
    "#classifier = RandomForestClassifier(labelCol = 'failure', featuresCol = 'features_norm')\n",
    "classifier = DecisionTreeClassifier(labelCol = 'failure', featuresCol = 'features_norm')\n",
    "#classifier = GBTClassifier(labelCol = 'failure', featuresCol = 'features_norm')\n",
    "#classifier = LinearSVC(labelCol = 'failure', featuresCol = 'features_norm')\n",
    "\n",
    "\n",
    "pipeline = Pipeline(stages = [assembler, normalizer, classifier])\n",
    "\n",
    "model = pipeline.fit(train)\n",
    "#train.unpersist()\n",
    "\n",
    "from pyspark.ml.evaluation import BinaryClassificationEvaluator\n",
    "\n",
    "predictions = model.transform(test)\n",
    "evaluator = BinaryClassificationEvaluator(labelCol = 'failure')\n",
    "\n",
    "check = predictions.where(predictions.prediction == predictions.failure).count() / test_size\n",
    "print('Raw accuracy: ', check)\n",
    "\n",
    "failed = predictions.where(predictions.failure == 1.0)\n",
    "failures_predicted = failed.where(failed.failure == failed.prediction).count() / nr_of_failed\n",
    "        \n",
    "print(\"Failures predicted: \", failures_predicted)\n",
    "\n",
    "auroc = evaluator.evaluate(predictions, {evaluator.metricName: \"areaUnderROC\"})\n",
    "aupr = evaluator.evaluate(predictions, {evaluator.metricName: \"areaUnderPR\"})\n",
    "print(\"The AUROC is %s and the AUPR is %s.\" % (auroc, aupr))"
   ]
  },
  {
   "cell_type": "code",
   "execution_count": 86,
   "metadata": {},
   "outputs": [
    {
     "data": {
      "image/png": "[encoded data removed]",
      "text/plain": [
       "<matplotlib.figure.Figure at 0x1c5a4a4b160>"
      ]
     },
     "metadata": {},
     "output_type": "display_data"
    }
   ],
   "source": [
    "import numpy as np\n",
    "import matplotlib.pyplot as plt\n",
    "from matplotlib import style\n",
    "\n",
    "style.use('fivethirtyeight')\n",
    "\n",
    "fig = plt.gcf()\n",
    "fig.set_size_inches(15.5, 10.5)\n",
    "\n",
    "xs = np.array([194 / 131, 509 / 131, 996 / 131, 1988 / 131, 4971 / 131, 9976 / 131, 29929 / 131, 79836 / 131])\n",
    "dt_FP = np.array([0.69, 0.81, 0.72, 0.62, 0.46, 0.43, 0.29, 0.15]) * 100\n",
    "rf_FP = np.array([0.72, 0.74, 0.72, 0.56, 0.50, 0.53, 0.26, 0.27]) * 100\n",
    "gbt_FP = np.array([0.75, 0.81, 0.72, 0.62, 0.46, 0.47, 0.35, 0.33]) * 100\n",
    "\n",
    "plt.subplot(223)\n",
    "dt_line_fp = plt.plot(xs, dt_FP, color = 'red', linewidth = 3, label = 'DecisionTree')\n",
    "rf_line_fp = plt.plot(xs, rf_FP, color = 'green', linewidth = 3, label = 'RandomForest')\n",
    "gbt_line_fp = plt.plot(xs, gbt_FP, color = 'blue', linewidth = 3, label = 'GBTree')\n",
    "\n",
    "# first_legend = plt.legend(handles = [dt_line_fp])\n",
    "# second_legend = plt.legend(handles = [dt_line_fp])\n",
    "# second_legend = plt.legend(handles = [dt_line_fp])\n",
    "plt.legend(bbox_to_anchor = (1.05, 1), loc = 2, borderaxespad = 0.)\n",
    "plt.xlabel('odnos ispravni:otkazali u podskupu')\n",
    "plt.ylabel('uspešno prediktovani otkazi (%)')\n",
    "plt.show()"
   ]
  }
 ],
 "metadata": {
  "kernelspec": {
   "display_name": "Python 3",
   "language": "python",
   "name": "python3"
  },
  "language_info": {
   "codemirror_mode": {
    "name": "ipython",
    "version": 3
   },
   "file_extension": ".py",
   "mimetype": "text/x-python",
   "name": "python",
   "nbconvert_exporter": "python",
   "pygments_lexer": "ipython3",
   "version": "3.6.3"
  }
 },
 "nbformat": 4,
 "nbformat_minor": 2
}
